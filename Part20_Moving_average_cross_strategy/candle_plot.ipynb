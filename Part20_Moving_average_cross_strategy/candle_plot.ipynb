{
 "cells": [
  {
   "cell_type": "code",
   "execution_count": 4,
   "metadata": {},
   "outputs": [],
   "source": [
    "import pandas as pd\n",
    "import utils\n",
    "import plotly.graph_objects as go\n",
    "import instrument"
   ]
  },
  {
   "cell_type": "code",
   "execution_count": 5,
   "metadata": {},
   "outputs": [],
   "source": [
    "pair = \"EUR_USD\"\n",
    "granularity = \"H1\"\n",
    "ma_list = [16,64]\n",
    "i_pair = instrument.Instrument.get_instrument_by_name(\"EUR_USD\")"
   ]
  },
  {
   "cell_type": "code",
   "execution_count": 6,
   "metadata": {},
   "outputs": [],
   "source": [
    "df = pd.read_pickle(utils.get_his_data_filename(pair, granularity))\n",
    "non_cols = ['time', 'volume']\n",
    "mod_cols = [x for x in df.columns if x not in non_cols]\n",
    "df[mod_cols] = df[mod_cols].apply(pd.to_numeric)"
   ]
  },
  {
   "cell_type": "code",
   "execution_count": 7,
   "metadata": {},
   "outputs": [],
   "source": [
    "df_ma = df[['time', 'mid_o', 'mid_h', 'mid_l', 'mid_c']].copy()\n",
    "for ma in ma_list:  \n",
    "    df_ma[f'MA_{ma}'] = df_ma.mid_c.rolling(window=ma).mean()\n",
    "df_ma.dropna(inplace=True)\n",
    "df_ma.reset_index(drop=True, inplace=True)"
   ]
  },
  {
   "cell_type": "code",
   "execution_count": 8,
   "metadata": {},
   "outputs": [
    {
     "data": {
      "text/html": [
       "<div>\n",
       "<style scoped>\n",
       "    .dataframe tbody tr th:only-of-type {\n",
       "        vertical-align: middle;\n",
       "    }\n",
       "\n",
       "    .dataframe tbody tr th {\n",
       "        vertical-align: top;\n",
       "    }\n",
       "\n",
       "    .dataframe thead th {\n",
       "        text-align: right;\n",
       "    }\n",
       "</style>\n",
       "<table border=\"1\" class=\"dataframe\">\n",
       "  <thead>\n",
       "    <tr style=\"text-align: right;\">\n",
       "      <th></th>\n",
       "      <th>time</th>\n",
       "      <th>mid_o</th>\n",
       "      <th>mid_h</th>\n",
       "      <th>mid_l</th>\n",
       "      <th>mid_c</th>\n",
       "      <th>MA_16</th>\n",
       "      <th>MA_64</th>\n",
       "    </tr>\n",
       "  </thead>\n",
       "  <tbody>\n",
       "    <tr>\n",
       "      <th>0</th>\n",
       "      <td>2023-07-18T16:00:00.000000000Z</td>\n",
       "      <td>1.12224</td>\n",
       "      <td>1.12286</td>\n",
       "      <td>1.12092</td>\n",
       "      <td>1.12147</td>\n",
       "      <td>1.124358</td>\n",
       "      <td>1.123503</td>\n",
       "    </tr>\n",
       "    <tr>\n",
       "      <th>1</th>\n",
       "      <td>2023-07-18T17:00:00.000000000Z</td>\n",
       "      <td>1.12146</td>\n",
       "      <td>1.12212</td>\n",
       "      <td>1.12092</td>\n",
       "      <td>1.12188</td>\n",
       "      <td>1.124191</td>\n",
       "      <td>1.123480</td>\n",
       "    </tr>\n",
       "    <tr>\n",
       "      <th>2</th>\n",
       "      <td>2023-07-18T18:00:00.000000000Z</td>\n",
       "      <td>1.12188</td>\n",
       "      <td>1.12312</td>\n",
       "      <td>1.12138</td>\n",
       "      <td>1.12290</td>\n",
       "      <td>1.124073</td>\n",
       "      <td>1.123470</td>\n",
       "    </tr>\n",
       "    <tr>\n",
       "      <th>3</th>\n",
       "      <td>2023-07-18T19:00:00.000000000Z</td>\n",
       "      <td>1.12291</td>\n",
       "      <td>1.12308</td>\n",
       "      <td>1.12244</td>\n",
       "      <td>1.12303</td>\n",
       "      <td>1.123925</td>\n",
       "      <td>1.123453</td>\n",
       "    </tr>\n",
       "    <tr>\n",
       "      <th>4</th>\n",
       "      <td>2023-07-18T20:00:00.000000000Z</td>\n",
       "      <td>1.12304</td>\n",
       "      <td>1.12318</td>\n",
       "      <td>1.12271</td>\n",
       "      <td>1.12284</td>\n",
       "      <td>1.123779</td>\n",
       "      <td>1.123446</td>\n",
       "    </tr>\n",
       "  </tbody>\n",
       "</table>\n",
       "</div>"
      ],
      "text/plain": [
       "                             time    mid_o    mid_h    mid_l    mid_c  \\\n",
       "0  2023-07-18T16:00:00.000000000Z  1.12224  1.12286  1.12092  1.12147   \n",
       "1  2023-07-18T17:00:00.000000000Z  1.12146  1.12212  1.12092  1.12188   \n",
       "2  2023-07-18T18:00:00.000000000Z  1.12188  1.12312  1.12138  1.12290   \n",
       "3  2023-07-18T19:00:00.000000000Z  1.12291  1.12308  1.12244  1.12303   \n",
       "4  2023-07-18T20:00:00.000000000Z  1.12304  1.12318  1.12271  1.12284   \n",
       "\n",
       "      MA_16     MA_64  \n",
       "0  1.124358  1.123503  \n",
       "1  1.124191  1.123480  \n",
       "2  1.124073  1.123470  \n",
       "3  1.123925  1.123453  \n",
       "4  1.123779  1.123446  "
      ]
     },
     "execution_count": 8,
     "metadata": {},
     "output_type": "execute_result"
    }
   ],
   "source": [
    "df_ma.head()"
   ]
  },
  {
   "cell_type": "code",
   "execution_count": 9,
   "metadata": {},
   "outputs": [],
   "source": [
    "def is_trade(row):\n",
    "    if row.DIFF >= 0 and row.DIFF_PREV < 0:\n",
    "        return True\n",
    "    if row.DIFF <= 0 and row.DIFF_PREV > 0:\n",
    "        return True\n",
    "    return False"
   ]
  },
  {
   "cell_type": "code",
   "execution_count": 10,
   "metadata": {},
   "outputs": [],
   "source": [
    "df_ma['DIFF'] = df_ma.MA_16 - df_ma.MA_64\n",
    "df_ma['DIFF_PREV'] = df_ma.DIFF.shift(1)\n",
    "df_ma['IS_TRADE'] = df_ma.apply(is_trade, axis=1)\n",
    "df_trades = df_ma[df_ma.IS_TRADE==True].copy()"
   ]
  },
  {
   "cell_type": "code",
   "execution_count": 15,
   "metadata": {},
   "outputs": [
    {
     "data": {
      "text/html": [
       "<div>\n",
       "<style scoped>\n",
       "    .dataframe tbody tr th:only-of-type {\n",
       "        vertical-align: middle;\n",
       "    }\n",
       "\n",
       "    .dataframe tbody tr th {\n",
       "        vertical-align: top;\n",
       "    }\n",
       "\n",
       "    .dataframe thead th {\n",
       "        text-align: right;\n",
       "    }\n",
       "</style>\n",
       "<table border=\"1\" class=\"dataframe\">\n",
       "  <thead>\n",
       "    <tr style=\"text-align: right;\">\n",
       "      <th></th>\n",
       "      <th>time</th>\n",
       "      <th>mid_o</th>\n",
       "      <th>mid_h</th>\n",
       "      <th>mid_l</th>\n",
       "      <th>mid_c</th>\n",
       "      <th>MA_16</th>\n",
       "      <th>MA_64</th>\n",
       "      <th>DIFF</th>\n",
       "      <th>DIFF_PREV</th>\n",
       "      <th>IS_TRADE</th>\n",
       "    </tr>\n",
       "  </thead>\n",
       "  <tbody>\n",
       "    <tr>\n",
       "      <th>7</th>\n",
       "      <td>2023-07-18T23:00:00.000000000Z</td>\n",
       "      <td>1.12316</td>\n",
       "      <td>1.12322</td>\n",
       "      <td>1.12252</td>\n",
       "      <td>1.12284</td>\n",
       "      <td>1.123338</td>\n",
       "      <td>1.123506</td>\n",
       "      <td>-0.000167</td>\n",
       "      <td>0.000002</td>\n",
       "      <td>True</td>\n",
       "    </tr>\n",
       "    <tr>\n",
       "      <th>147</th>\n",
       "      <td>2023-07-26T19:00:00.000000000Z</td>\n",
       "      <td>1.11040</td>\n",
       "      <td>1.11070</td>\n",
       "      <td>1.10784</td>\n",
       "      <td>1.10964</td>\n",
       "      <td>1.107142</td>\n",
       "      <td>1.106852</td>\n",
       "      <td>0.000290</td>\n",
       "      <td>-0.000048</td>\n",
       "      <td>True</td>\n",
       "    </tr>\n",
       "    <tr>\n",
       "      <th>171</th>\n",
       "      <td>2023-07-27T19:00:00.000000000Z</td>\n",
       "      <td>1.09738</td>\n",
       "      <td>1.09743</td>\n",
       "      <td>1.09660</td>\n",
       "      <td>1.09672</td>\n",
       "      <td>1.105968</td>\n",
       "      <td>1.106365</td>\n",
       "      <td>-0.000396</td>\n",
       "      <td>0.000261</td>\n",
       "      <td>True</td>\n",
       "    </tr>\n",
       "    <tr>\n",
       "      <th>221</th>\n",
       "      <td>2023-07-31T21:00:00.000000000Z</td>\n",
       "      <td>1.09958</td>\n",
       "      <td>1.09994</td>\n",
       "      <td>1.09936</td>\n",
       "      <td>1.09986</td>\n",
       "      <td>1.101707</td>\n",
       "      <td>1.101669</td>\n",
       "      <td>0.000039</td>\n",
       "      <td>-0.000003</td>\n",
       "      <td>True</td>\n",
       "    </tr>\n",
       "    <tr>\n",
       "      <th>227</th>\n",
       "      <td>2023-08-01T03:00:00.000000000Z</td>\n",
       "      <td>1.09853</td>\n",
       "      <td>1.09892</td>\n",
       "      <td>1.09840</td>\n",
       "      <td>1.09857</td>\n",
       "      <td>1.100351</td>\n",
       "      <td>1.100358</td>\n",
       "      <td>-0.000006</td>\n",
       "      <td>0.000012</td>\n",
       "      <td>True</td>\n",
       "    </tr>\n",
       "  </tbody>\n",
       "</table>\n",
       "</div>"
      ],
      "text/plain": [
       "                               time    mid_o    mid_h    mid_l    mid_c  \\\n",
       "7    2023-07-18T23:00:00.000000000Z  1.12316  1.12322  1.12252  1.12284   \n",
       "147  2023-07-26T19:00:00.000000000Z  1.11040  1.11070  1.10784  1.10964   \n",
       "171  2023-07-27T19:00:00.000000000Z  1.09738  1.09743  1.09660  1.09672   \n",
       "221  2023-07-31T21:00:00.000000000Z  1.09958  1.09994  1.09936  1.09986   \n",
       "227  2023-08-01T03:00:00.000000000Z  1.09853  1.09892  1.09840  1.09857   \n",
       "\n",
       "        MA_16     MA_64      DIFF  DIFF_PREV  IS_TRADE  \n",
       "7    1.123338  1.123506 -0.000167   0.000002      True  \n",
       "147  1.107142  1.106852  0.000290  -0.000048      True  \n",
       "171  1.105968  1.106365 -0.000396   0.000261      True  \n",
       "221  1.101707  1.101669  0.000039  -0.000003      True  \n",
       "227  1.100351  1.100358 -0.000006   0.000012      True  "
      ]
     },
     "execution_count": 15,
     "metadata": {},
     "output_type": "execute_result"
    }
   ],
   "source": [
    "df_trades.head()"
   ]
  },
  {
   "cell_type": "code",
   "execution_count": 16,
   "metadata": {},
   "outputs": [
    {
     "data": {
      "text/html": [
       "<div>\n",
       "<style scoped>\n",
       "    .dataframe tbody tr th:only-of-type {\n",
       "        vertical-align: middle;\n",
       "    }\n",
       "\n",
       "    .dataframe tbody tr th {\n",
       "        vertical-align: top;\n",
       "    }\n",
       "\n",
       "    .dataframe thead th {\n",
       "        text-align: right;\n",
       "    }\n",
       "</style>\n",
       "<table border=\"1\" class=\"dataframe\">\n",
       "  <thead>\n",
       "    <tr style=\"text-align: right;\">\n",
       "      <th></th>\n",
       "      <th>time</th>\n",
       "      <th>mid_o</th>\n",
       "      <th>mid_h</th>\n",
       "      <th>mid_l</th>\n",
       "      <th>mid_c</th>\n",
       "      <th>MA_16</th>\n",
       "      <th>MA_64</th>\n",
       "      <th>DIFF</th>\n",
       "      <th>DIFF_PREV</th>\n",
       "      <th>IS_TRADE</th>\n",
       "    </tr>\n",
       "  </thead>\n",
       "  <tbody>\n",
       "    <tr>\n",
       "      <th>0</th>\n",
       "      <td>2023-07-18T16:00:00.000000000Z</td>\n",
       "      <td>1.12224</td>\n",
       "      <td>1.12286</td>\n",
       "      <td>1.12092</td>\n",
       "      <td>1.12147</td>\n",
       "      <td>1.124358</td>\n",
       "      <td>1.123503</td>\n",
       "      <td>0.000855</td>\n",
       "      <td>NaN</td>\n",
       "      <td>False</td>\n",
       "    </tr>\n",
       "    <tr>\n",
       "      <th>1</th>\n",
       "      <td>2023-07-18T17:00:00.000000000Z</td>\n",
       "      <td>1.12146</td>\n",
       "      <td>1.12212</td>\n",
       "      <td>1.12092</td>\n",
       "      <td>1.12188</td>\n",
       "      <td>1.124191</td>\n",
       "      <td>1.123480</td>\n",
       "      <td>0.000710</td>\n",
       "      <td>0.000855</td>\n",
       "      <td>False</td>\n",
       "    </tr>\n",
       "    <tr>\n",
       "      <th>2</th>\n",
       "      <td>2023-07-18T18:00:00.000000000Z</td>\n",
       "      <td>1.12188</td>\n",
       "      <td>1.12312</td>\n",
       "      <td>1.12138</td>\n",
       "      <td>1.12290</td>\n",
       "      <td>1.124073</td>\n",
       "      <td>1.123470</td>\n",
       "      <td>0.000603</td>\n",
       "      <td>0.000710</td>\n",
       "      <td>False</td>\n",
       "    </tr>\n",
       "    <tr>\n",
       "      <th>3</th>\n",
       "      <td>2023-07-18T19:00:00.000000000Z</td>\n",
       "      <td>1.12291</td>\n",
       "      <td>1.12308</td>\n",
       "      <td>1.12244</td>\n",
       "      <td>1.12303</td>\n",
       "      <td>1.123925</td>\n",
       "      <td>1.123453</td>\n",
       "      <td>0.000472</td>\n",
       "      <td>0.000603</td>\n",
       "      <td>False</td>\n",
       "    </tr>\n",
       "    <tr>\n",
       "      <th>4</th>\n",
       "      <td>2023-07-18T20:00:00.000000000Z</td>\n",
       "      <td>1.12304</td>\n",
       "      <td>1.12318</td>\n",
       "      <td>1.12271</td>\n",
       "      <td>1.12284</td>\n",
       "      <td>1.123779</td>\n",
       "      <td>1.123446</td>\n",
       "      <td>0.000333</td>\n",
       "      <td>0.000472</td>\n",
       "      <td>False</td>\n",
       "    </tr>\n",
       "    <tr>\n",
       "      <th>...</th>\n",
       "      <td>...</td>\n",
       "      <td>...</td>\n",
       "      <td>...</td>\n",
       "      <td>...</td>\n",
       "      <td>...</td>\n",
       "      <td>...</td>\n",
       "      <td>...</td>\n",
       "      <td>...</td>\n",
       "      <td>...</td>\n",
       "      <td>...</td>\n",
       "    </tr>\n",
       "    <tr>\n",
       "      <th>3931</th>\n",
       "      <td>2024-03-06T12:00:00.000000000Z</td>\n",
       "      <td>1.08758</td>\n",
       "      <td>1.08788</td>\n",
       "      <td>1.08674</td>\n",
       "      <td>1.08688</td>\n",
       "      <td>1.086043</td>\n",
       "      <td>1.085346</td>\n",
       "      <td>0.000697</td>\n",
       "      <td>0.000677</td>\n",
       "      <td>False</td>\n",
       "    </tr>\n",
       "    <tr>\n",
       "      <th>3932</th>\n",
       "      <td>2024-03-06T13:00:00.000000000Z</td>\n",
       "      <td>1.08690</td>\n",
       "      <td>1.08851</td>\n",
       "      <td>1.08685</td>\n",
       "      <td>1.08850</td>\n",
       "      <td>1.086219</td>\n",
       "      <td>1.085416</td>\n",
       "      <td>0.000802</td>\n",
       "      <td>0.000697</td>\n",
       "      <td>False</td>\n",
       "    </tr>\n",
       "    <tr>\n",
       "      <th>3933</th>\n",
       "      <td>2024-03-06T14:00:00.000000000Z</td>\n",
       "      <td>1.08848</td>\n",
       "      <td>1.08895</td>\n",
       "      <td>1.08830</td>\n",
       "      <td>1.08870</td>\n",
       "      <td>1.086407</td>\n",
       "      <td>1.085488</td>\n",
       "      <td>0.000918</td>\n",
       "      <td>0.000802</td>\n",
       "      <td>False</td>\n",
       "    </tr>\n",
       "    <tr>\n",
       "      <th>3934</th>\n",
       "      <td>2024-03-06T15:00:00.000000000Z</td>\n",
       "      <td>1.08850</td>\n",
       "      <td>1.09089</td>\n",
       "      <td>1.08814</td>\n",
       "      <td>1.09051</td>\n",
       "      <td>1.086717</td>\n",
       "      <td>1.085587</td>\n",
       "      <td>0.001130</td>\n",
       "      <td>0.000918</td>\n",
       "      <td>False</td>\n",
       "    </tr>\n",
       "    <tr>\n",
       "      <th>3935</th>\n",
       "      <td>2024-03-06T16:00:00.000000000Z</td>\n",
       "      <td>1.09050</td>\n",
       "      <td>1.09150</td>\n",
       "      <td>1.08995</td>\n",
       "      <td>1.09122</td>\n",
       "      <td>1.087107</td>\n",
       "      <td>1.085691</td>\n",
       "      <td>0.001416</td>\n",
       "      <td>0.001130</td>\n",
       "      <td>False</td>\n",
       "    </tr>\n",
       "  </tbody>\n",
       "</table>\n",
       "<p>3936 rows × 10 columns</p>\n",
       "</div>"
      ],
      "text/plain": [
       "                                time    mid_o    mid_h    mid_l    mid_c  \\\n",
       "0     2023-07-18T16:00:00.000000000Z  1.12224  1.12286  1.12092  1.12147   \n",
       "1     2023-07-18T17:00:00.000000000Z  1.12146  1.12212  1.12092  1.12188   \n",
       "2     2023-07-18T18:00:00.000000000Z  1.12188  1.12312  1.12138  1.12290   \n",
       "3     2023-07-18T19:00:00.000000000Z  1.12291  1.12308  1.12244  1.12303   \n",
       "4     2023-07-18T20:00:00.000000000Z  1.12304  1.12318  1.12271  1.12284   \n",
       "...                              ...      ...      ...      ...      ...   \n",
       "3931  2024-03-06T12:00:00.000000000Z  1.08758  1.08788  1.08674  1.08688   \n",
       "3932  2024-03-06T13:00:00.000000000Z  1.08690  1.08851  1.08685  1.08850   \n",
       "3933  2024-03-06T14:00:00.000000000Z  1.08848  1.08895  1.08830  1.08870   \n",
       "3934  2024-03-06T15:00:00.000000000Z  1.08850  1.09089  1.08814  1.09051   \n",
       "3935  2024-03-06T16:00:00.000000000Z  1.09050  1.09150  1.08995  1.09122   \n",
       "\n",
       "         MA_16     MA_64      DIFF  DIFF_PREV  IS_TRADE  \n",
       "0     1.124358  1.123503  0.000855        NaN     False  \n",
       "1     1.124191  1.123480  0.000710   0.000855     False  \n",
       "2     1.124073  1.123470  0.000603   0.000710     False  \n",
       "3     1.123925  1.123453  0.000472   0.000603     False  \n",
       "4     1.123779  1.123446  0.000333   0.000472     False  \n",
       "...        ...       ...       ...        ...       ...  \n",
       "3931  1.086043  1.085346  0.000697   0.000677     False  \n",
       "3932  1.086219  1.085416  0.000802   0.000697     False  \n",
       "3933  1.086407  1.085488  0.000918   0.000802     False  \n",
       "3934  1.086717  1.085587  0.001130   0.000918     False  \n",
       "3935  1.087107  1.085691  0.001416   0.001130     False  \n",
       "\n",
       "[3936 rows x 10 columns]"
      ]
     },
     "execution_count": 16,
     "metadata": {},
     "output_type": "execute_result"
    }
   ],
   "source": [
    "df_ma"
   ]
  },
  {
   "cell_type": "code",
   "execution_count": 12,
   "metadata": {},
   "outputs": [],
   "source": [
    "df_plot = df_ma.iloc[0:24].copy()"
   ]
  },
  {
   "cell_type": "code",
   "execution_count": 13,
   "metadata": {},
   "outputs": [
    {
     "data": {
      "text/plain": [
       "(24, 10)"
      ]
     },
     "execution_count": 13,
     "metadata": {},
     "output_type": "execute_result"
    }
   ],
   "source": [
    "df_plot.shape"
   ]
  },
  {
   "cell_type": "code",
   "execution_count": 14,
   "metadata": {},
   "outputs": [
    {
     "data": {
      "application/vnd.plotly.v1+json": {
       "config": {
        "plotlyServerURL": "https://plot.ly"
       },
       "data": [
        {
         "close": [
          1.12147,
          1.12188,
          1.1229,
          1.12303,
          1.12284,
          1.12294,
          1.12317,
          1.12284,
          1.12296,
          1.12252,
          1.12216,
          1.12263,
          1.12216,
          1.12352,
          1.12129,
          1.1227,
          1.12326,
          1.12296,
          1.12158,
          1.12133,
          1.12172,
          1.12136,
          1.11908,
          1.1194
         ],
         "decreasing": {
          "fillcolor": "#CC2E3C",
          "line": {
           "color": "#FF3A4C"
          }
         },
         "high": [
          1.12286,
          1.12212,
          1.12312,
          1.12308,
          1.12318,
          1.12304,
          1.12328,
          1.12322,
          1.12329,
          1.12313,
          1.12256,
          1.12269,
          1.12268,
          1.12358,
          1.12358,
          1.12372,
          1.12328,
          1.12402,
          1.12297,
          1.12204,
          1.12241,
          1.12247,
          1.12144,
          1.11995
         ],
         "increasing": {
          "fillcolor": "#24A06B",
          "line": {
           "color": "#2EC886"
          }
         },
         "line": {
          "width": 1
         },
         "low": [
          1.12092,
          1.12092,
          1.12138,
          1.12244,
          1.12271,
          1.1226,
          1.12285,
          1.12252,
          1.12272,
          1.12217,
          1.12162,
          1.12202,
          1.12196,
          1.12202,
          1.11959,
          1.12126,
          1.122,
          1.12256,
          1.12157,
          1.12101,
          1.12088,
          1.12132,
          1.11744,
          1.11896
         ],
         "opacity": 1,
         "open": [
          1.12224,
          1.12146,
          1.12188,
          1.12291,
          1.12304,
          1.12266,
          1.1229,
          1.12316,
          1.12284,
          1.12298,
          1.12252,
          1.12218,
          1.12266,
          1.12216,
          1.12354,
          1.1213,
          1.12268,
          1.12324,
          1.12297,
          1.1216,
          1.12134,
          1.12173,
          1.12134,
          1.11907
         ],
         "type": "candlestick",
         "x": [
          "2023-07-18T16:00:00.000000000Z",
          "2023-07-18T17:00:00.000000000Z",
          "2023-07-18T18:00:00.000000000Z",
          "2023-07-18T19:00:00.000000000Z",
          "2023-07-18T20:00:00.000000000Z",
          "2023-07-18T21:00:00.000000000Z",
          "2023-07-18T22:00:00.000000000Z",
          "2023-07-18T23:00:00.000000000Z",
          "2023-07-19T00:00:00.000000000Z",
          "2023-07-19T01:00:00.000000000Z",
          "2023-07-19T02:00:00.000000000Z",
          "2023-07-19T03:00:00.000000000Z",
          "2023-07-19T04:00:00.000000000Z",
          "2023-07-19T05:00:00.000000000Z",
          "2023-07-19T06:00:00.000000000Z",
          "2023-07-19T07:00:00.000000000Z",
          "2023-07-19T08:00:00.000000000Z",
          "2023-07-19T09:00:00.000000000Z",
          "2023-07-19T10:00:00.000000000Z",
          "2023-07-19T11:00:00.000000000Z",
          "2023-07-19T12:00:00.000000000Z",
          "2023-07-19T13:00:00.000000000Z",
          "2023-07-19T14:00:00.000000000Z",
          "2023-07-19T15:00:00.000000000Z"
         ]
        },
        {
         "line": {
          "shape": "spline",
          "width": 2
         },
         "name": "MA_16",
         "type": "scatter",
         "x": [
          "2023-07-18T16:00:00.000000000Z",
          "2023-07-18T17:00:00.000000000Z",
          "2023-07-18T18:00:00.000000000Z",
          "2023-07-18T19:00:00.000000000Z",
          "2023-07-18T20:00:00.000000000Z",
          "2023-07-18T21:00:00.000000000Z",
          "2023-07-18T22:00:00.000000000Z",
          "2023-07-18T23:00:00.000000000Z",
          "2023-07-19T00:00:00.000000000Z",
          "2023-07-19T01:00:00.000000000Z",
          "2023-07-19T02:00:00.000000000Z",
          "2023-07-19T03:00:00.000000000Z",
          "2023-07-19T04:00:00.000000000Z",
          "2023-07-19T05:00:00.000000000Z",
          "2023-07-19T06:00:00.000000000Z",
          "2023-07-19T07:00:00.000000000Z",
          "2023-07-19T08:00:00.000000000Z",
          "2023-07-19T09:00:00.000000000Z",
          "2023-07-19T10:00:00.000000000Z",
          "2023-07-19T11:00:00.000000000Z",
          "2023-07-19T12:00:00.000000000Z",
          "2023-07-19T13:00:00.000000000Z",
          "2023-07-19T14:00:00.000000000Z",
          "2023-07-19T15:00:00.000000000Z"
         ],
         "y": [
          1.124358125,
          1.124190625,
          1.124073125,
          1.123925,
          1.12377875,
          1.12365,
          1.123496875,
          1.123338125,
          1.1232893750000001,
          1.123140625,
          1.122915625,
          1.122745625,
          1.1226318750000002,
          1.122685,
          1.122535625,
          1.122563125,
          1.1226749999999999,
          1.1227425000000002,
          1.12266,
          1.12255375,
          1.12248375,
          1.122385,
          1.1221293749999999,
          1.1219143749999998
         ]
        },
        {
         "line": {
          "shape": "spline",
          "width": 2
         },
         "name": "MA_64",
         "type": "scatter",
         "x": [
          "2023-07-18T16:00:00.000000000Z",
          "2023-07-18T17:00:00.000000000Z",
          "2023-07-18T18:00:00.000000000Z",
          "2023-07-18T19:00:00.000000000Z",
          "2023-07-18T20:00:00.000000000Z",
          "2023-07-18T21:00:00.000000000Z",
          "2023-07-18T22:00:00.000000000Z",
          "2023-07-18T23:00:00.000000000Z",
          "2023-07-19T00:00:00.000000000Z",
          "2023-07-19T01:00:00.000000000Z",
          "2023-07-19T02:00:00.000000000Z",
          "2023-07-19T03:00:00.000000000Z",
          "2023-07-19T04:00:00.000000000Z",
          "2023-07-19T05:00:00.000000000Z",
          "2023-07-19T06:00:00.000000000Z",
          "2023-07-19T07:00:00.000000000Z",
          "2023-07-19T08:00:00.000000000Z",
          "2023-07-19T09:00:00.000000000Z",
          "2023-07-19T10:00:00.000000000Z",
          "2023-07-19T11:00:00.000000000Z",
          "2023-07-19T12:00:00.000000000Z",
          "2023-07-19T13:00:00.000000000Z",
          "2023-07-19T14:00:00.000000000Z",
          "2023-07-19T15:00:00.000000000Z"
         ],
         "y": [
          1.12350265625,
          1.12348046875,
          1.12347046875,
          1.123453125,
          1.1234459374999999,
          1.12346171875,
          1.1234953125,
          1.123505625,
          1.123503125,
          1.1235009375,
          1.1235028125,
          1.12350609375,
          1.1234996875,
          1.1234921875,
          1.12344703125,
          1.1234334375,
          1.1234228124999999,
          1.12341546875,
          1.123386875,
          1.12336703125,
          1.1233510937500002,
          1.12332484375,
          1.12327046875,
          1.1232185937499999
         ]
        }
       ],
       "layout": {
        "font": {
         "color": "#e1e1e1",
         "size": 10
        },
        "height": 400,
        "margin": {
         "b": 10,
         "l": 10,
         "r": 10,
         "t": 10
        },
        "paper_bgcolor": "#1e1e1e",
        "plot_bgcolor": "#1e1e1e",
        "template": {
         "data": {
          "bar": [
           {
            "error_x": {
             "color": "#2a3f5f"
            },
            "error_y": {
             "color": "#2a3f5f"
            },
            "marker": {
             "line": {
              "color": "#E5ECF6",
              "width": 0.5
             },
             "pattern": {
              "fillmode": "overlay",
              "size": 10,
              "solidity": 0.2
             }
            },
            "type": "bar"
           }
          ],
          "barpolar": [
           {
            "marker": {
             "line": {
              "color": "#E5ECF6",
              "width": 0.5
             },
             "pattern": {
              "fillmode": "overlay",
              "size": 10,
              "solidity": 0.2
             }
            },
            "type": "barpolar"
           }
          ],
          "carpet": [
           {
            "aaxis": {
             "endlinecolor": "#2a3f5f",
             "gridcolor": "white",
             "linecolor": "white",
             "minorgridcolor": "white",
             "startlinecolor": "#2a3f5f"
            },
            "baxis": {
             "endlinecolor": "#2a3f5f",
             "gridcolor": "white",
             "linecolor": "white",
             "minorgridcolor": "white",
             "startlinecolor": "#2a3f5f"
            },
            "type": "carpet"
           }
          ],
          "choropleth": [
           {
            "colorbar": {
             "outlinewidth": 0,
             "ticks": ""
            },
            "type": "choropleth"
           }
          ],
          "contour": [
           {
            "colorbar": {
             "outlinewidth": 0,
             "ticks": ""
            },
            "colorscale": [
             [
              0,
              "#0d0887"
             ],
             [
              0.1111111111111111,
              "#46039f"
             ],
             [
              0.2222222222222222,
              "#7201a8"
             ],
             [
              0.3333333333333333,
              "#9c179e"
             ],
             [
              0.4444444444444444,
              "#bd3786"
             ],
             [
              0.5555555555555556,
              "#d8576b"
             ],
             [
              0.6666666666666666,
              "#ed7953"
             ],
             [
              0.7777777777777778,
              "#fb9f3a"
             ],
             [
              0.8888888888888888,
              "#fdca26"
             ],
             [
              1,
              "#f0f921"
             ]
            ],
            "type": "contour"
           }
          ],
          "contourcarpet": [
           {
            "colorbar": {
             "outlinewidth": 0,
             "ticks": ""
            },
            "type": "contourcarpet"
           }
          ],
          "heatmap": [
           {
            "colorbar": {
             "outlinewidth": 0,
             "ticks": ""
            },
            "colorscale": [
             [
              0,
              "#0d0887"
             ],
             [
              0.1111111111111111,
              "#46039f"
             ],
             [
              0.2222222222222222,
              "#7201a8"
             ],
             [
              0.3333333333333333,
              "#9c179e"
             ],
             [
              0.4444444444444444,
              "#bd3786"
             ],
             [
              0.5555555555555556,
              "#d8576b"
             ],
             [
              0.6666666666666666,
              "#ed7953"
             ],
             [
              0.7777777777777778,
              "#fb9f3a"
             ],
             [
              0.8888888888888888,
              "#fdca26"
             ],
             [
              1,
              "#f0f921"
             ]
            ],
            "type": "heatmap"
           }
          ],
          "heatmapgl": [
           {
            "colorbar": {
             "outlinewidth": 0,
             "ticks": ""
            },
            "colorscale": [
             [
              0,
              "#0d0887"
             ],
             [
              0.1111111111111111,
              "#46039f"
             ],
             [
              0.2222222222222222,
              "#7201a8"
             ],
             [
              0.3333333333333333,
              "#9c179e"
             ],
             [
              0.4444444444444444,
              "#bd3786"
             ],
             [
              0.5555555555555556,
              "#d8576b"
             ],
             [
              0.6666666666666666,
              "#ed7953"
             ],
             [
              0.7777777777777778,
              "#fb9f3a"
             ],
             [
              0.8888888888888888,
              "#fdca26"
             ],
             [
              1,
              "#f0f921"
             ]
            ],
            "type": "heatmapgl"
           }
          ],
          "histogram": [
           {
            "marker": {
             "pattern": {
              "fillmode": "overlay",
              "size": 10,
              "solidity": 0.2
             }
            },
            "type": "histogram"
           }
          ],
          "histogram2d": [
           {
            "colorbar": {
             "outlinewidth": 0,
             "ticks": ""
            },
            "colorscale": [
             [
              0,
              "#0d0887"
             ],
             [
              0.1111111111111111,
              "#46039f"
             ],
             [
              0.2222222222222222,
              "#7201a8"
             ],
             [
              0.3333333333333333,
              "#9c179e"
             ],
             [
              0.4444444444444444,
              "#bd3786"
             ],
             [
              0.5555555555555556,
              "#d8576b"
             ],
             [
              0.6666666666666666,
              "#ed7953"
             ],
             [
              0.7777777777777778,
              "#fb9f3a"
             ],
             [
              0.8888888888888888,
              "#fdca26"
             ],
             [
              1,
              "#f0f921"
             ]
            ],
            "type": "histogram2d"
           }
          ],
          "histogram2dcontour": [
           {
            "colorbar": {
             "outlinewidth": 0,
             "ticks": ""
            },
            "colorscale": [
             [
              0,
              "#0d0887"
             ],
             [
              0.1111111111111111,
              "#46039f"
             ],
             [
              0.2222222222222222,
              "#7201a8"
             ],
             [
              0.3333333333333333,
              "#9c179e"
             ],
             [
              0.4444444444444444,
              "#bd3786"
             ],
             [
              0.5555555555555556,
              "#d8576b"
             ],
             [
              0.6666666666666666,
              "#ed7953"
             ],
             [
              0.7777777777777778,
              "#fb9f3a"
             ],
             [
              0.8888888888888888,
              "#fdca26"
             ],
             [
              1,
              "#f0f921"
             ]
            ],
            "type": "histogram2dcontour"
           }
          ],
          "mesh3d": [
           {
            "colorbar": {
             "outlinewidth": 0,
             "ticks": ""
            },
            "type": "mesh3d"
           }
          ],
          "parcoords": [
           {
            "line": {
             "colorbar": {
              "outlinewidth": 0,
              "ticks": ""
             }
            },
            "type": "parcoords"
           }
          ],
          "pie": [
           {
            "automargin": true,
            "type": "pie"
           }
          ],
          "scatter": [
           {
            "fillpattern": {
             "fillmode": "overlay",
             "size": 10,
             "solidity": 0.2
            },
            "type": "scatter"
           }
          ],
          "scatter3d": [
           {
            "line": {
             "colorbar": {
              "outlinewidth": 0,
              "ticks": ""
             }
            },
            "marker": {
             "colorbar": {
              "outlinewidth": 0,
              "ticks": ""
             }
            },
            "type": "scatter3d"
           }
          ],
          "scattercarpet": [
           {
            "marker": {
             "colorbar": {
              "outlinewidth": 0,
              "ticks": ""
             }
            },
            "type": "scattercarpet"
           }
          ],
          "scattergeo": [
           {
            "marker": {
             "colorbar": {
              "outlinewidth": 0,
              "ticks": ""
             }
            },
            "type": "scattergeo"
           }
          ],
          "scattergl": [
           {
            "marker": {
             "colorbar": {
              "outlinewidth": 0,
              "ticks": ""
             }
            },
            "type": "scattergl"
           }
          ],
          "scattermapbox": [
           {
            "marker": {
             "colorbar": {
              "outlinewidth": 0,
              "ticks": ""
             }
            },
            "type": "scattermapbox"
           }
          ],
          "scatterpolar": [
           {
            "marker": {
             "colorbar": {
              "outlinewidth": 0,
              "ticks": ""
             }
            },
            "type": "scatterpolar"
           }
          ],
          "scatterpolargl": [
           {
            "marker": {
             "colorbar": {
              "outlinewidth": 0,
              "ticks": ""
             }
            },
            "type": "scatterpolargl"
           }
          ],
          "scatterternary": [
           {
            "marker": {
             "colorbar": {
              "outlinewidth": 0,
              "ticks": ""
             }
            },
            "type": "scatterternary"
           }
          ],
          "surface": [
           {
            "colorbar": {
             "outlinewidth": 0,
             "ticks": ""
            },
            "colorscale": [
             [
              0,
              "#0d0887"
             ],
             [
              0.1111111111111111,
              "#46039f"
             ],
             [
              0.2222222222222222,
              "#7201a8"
             ],
             [
              0.3333333333333333,
              "#9c179e"
             ],
             [
              0.4444444444444444,
              "#bd3786"
             ],
             [
              0.5555555555555556,
              "#d8576b"
             ],
             [
              0.6666666666666666,
              "#ed7953"
             ],
             [
              0.7777777777777778,
              "#fb9f3a"
             ],
             [
              0.8888888888888888,
              "#fdca26"
             ],
             [
              1,
              "#f0f921"
             ]
            ],
            "type": "surface"
           }
          ],
          "table": [
           {
            "cells": {
             "fill": {
              "color": "#EBF0F8"
             },
             "line": {
              "color": "white"
             }
            },
            "header": {
             "fill": {
              "color": "#C8D4E3"
             },
             "line": {
              "color": "white"
             }
            },
            "type": "table"
           }
          ]
         },
         "layout": {
          "annotationdefaults": {
           "arrowcolor": "#2a3f5f",
           "arrowhead": 0,
           "arrowwidth": 1
          },
          "autotypenumbers": "strict",
          "coloraxis": {
           "colorbar": {
            "outlinewidth": 0,
            "ticks": ""
           }
          },
          "colorscale": {
           "diverging": [
            [
             0,
             "#8e0152"
            ],
            [
             0.1,
             "#c51b7d"
            ],
            [
             0.2,
             "#de77ae"
            ],
            [
             0.3,
             "#f1b6da"
            ],
            [
             0.4,
             "#fde0ef"
            ],
            [
             0.5,
             "#f7f7f7"
            ],
            [
             0.6,
             "#e6f5d0"
            ],
            [
             0.7,
             "#b8e186"
            ],
            [
             0.8,
             "#7fbc41"
            ],
            [
             0.9,
             "#4d9221"
            ],
            [
             1,
             "#276419"
            ]
           ],
           "sequential": [
            [
             0,
             "#0d0887"
            ],
            [
             0.1111111111111111,
             "#46039f"
            ],
            [
             0.2222222222222222,
             "#7201a8"
            ],
            [
             0.3333333333333333,
             "#9c179e"
            ],
            [
             0.4444444444444444,
             "#bd3786"
            ],
            [
             0.5555555555555556,
             "#d8576b"
            ],
            [
             0.6666666666666666,
             "#ed7953"
            ],
            [
             0.7777777777777778,
             "#fb9f3a"
            ],
            [
             0.8888888888888888,
             "#fdca26"
            ],
            [
             1,
             "#f0f921"
            ]
           ],
           "sequentialminus": [
            [
             0,
             "#0d0887"
            ],
            [
             0.1111111111111111,
             "#46039f"
            ],
            [
             0.2222222222222222,
             "#7201a8"
            ],
            [
             0.3333333333333333,
             "#9c179e"
            ],
            [
             0.4444444444444444,
             "#bd3786"
            ],
            [
             0.5555555555555556,
             "#d8576b"
            ],
            [
             0.6666666666666666,
             "#ed7953"
            ],
            [
             0.7777777777777778,
             "#fb9f3a"
            ],
            [
             0.8888888888888888,
             "#fdca26"
            ],
            [
             1,
             "#f0f921"
            ]
           ]
          },
          "colorway": [
           "#636efa",
           "#EF553B",
           "#00cc96",
           "#ab63fa",
           "#FFA15A",
           "#19d3f3",
           "#FF6692",
           "#B6E880",
           "#FF97FF",
           "#FECB52"
          ],
          "font": {
           "color": "#2a3f5f"
          },
          "geo": {
           "bgcolor": "white",
           "lakecolor": "white",
           "landcolor": "#E5ECF6",
           "showlakes": true,
           "showland": true,
           "subunitcolor": "white"
          },
          "hoverlabel": {
           "align": "left"
          },
          "hovermode": "closest",
          "mapbox": {
           "style": "light"
          },
          "paper_bgcolor": "white",
          "plot_bgcolor": "#E5ECF6",
          "polar": {
           "angularaxis": {
            "gridcolor": "white",
            "linecolor": "white",
            "ticks": ""
           },
           "bgcolor": "#E5ECF6",
           "radialaxis": {
            "gridcolor": "white",
            "linecolor": "white",
            "ticks": ""
           }
          },
          "scene": {
           "xaxis": {
            "backgroundcolor": "#E5ECF6",
            "gridcolor": "white",
            "gridwidth": 2,
            "linecolor": "white",
            "showbackground": true,
            "ticks": "",
            "zerolinecolor": "white"
           },
           "yaxis": {
            "backgroundcolor": "#E5ECF6",
            "gridcolor": "white",
            "gridwidth": 2,
            "linecolor": "white",
            "showbackground": true,
            "ticks": "",
            "zerolinecolor": "white"
           },
           "zaxis": {
            "backgroundcolor": "#E5ECF6",
            "gridcolor": "white",
            "gridwidth": 2,
            "linecolor": "white",
            "showbackground": true,
            "ticks": "",
            "zerolinecolor": "white"
           }
          },
          "shapedefaults": {
           "line": {
            "color": "#2a3f5f"
           }
          },
          "ternary": {
           "aaxis": {
            "gridcolor": "white",
            "linecolor": "white",
            "ticks": ""
           },
           "baxis": {
            "gridcolor": "white",
            "linecolor": "white",
            "ticks": ""
           },
           "bgcolor": "#E5ECF6",
           "caxis": {
            "gridcolor": "white",
            "linecolor": "white",
            "ticks": ""
           }
          },
          "title": {
           "x": 0.05
          },
          "xaxis": {
           "automargin": true,
           "gridcolor": "white",
           "linecolor": "white",
           "ticks": "",
           "title": {
            "standoff": 15
           },
           "zerolinecolor": "white",
           "zerolinewidth": 2
          },
          "yaxis": {
           "automargin": true,
           "gridcolor": "white",
           "linecolor": "white",
           "ticks": "",
           "title": {
            "standoff": 15
           },
           "zerolinecolor": "white",
           "zerolinewidth": 2
          }
         }
        },
        "width": 1000,
        "xaxis": {
         "fixedrange": true,
         "gridcolor": "#1f292f",
         "rangeslider": {
          "visible": false
         },
         "showgrid": true
        },
        "yaxis": {
         "gridcolor": "#1f292f",
         "showgrid": true
        }
       }
      }
     },
     "metadata": {},
     "output_type": "display_data"
    }
   ],
   "source": [
    "fig = go.Figure()\n",
    "fig.add_trace(go.Candlestick(\n",
    "    x=df_plot.time, open=df_plot.mid_o, high=df_plot.mid_h, low=df_plot.mid_l, close=df_plot.mid_c,\n",
    "    line=dict(width=1), opacity=1,\n",
    "    increasing_fillcolor='#24A06B',\n",
    "    decreasing_fillcolor=\"#CC2E3C\",\n",
    "    increasing_line_color='#2EC886',  \n",
    "    decreasing_line_color='#FF3A4C'\n",
    "))\n",
    "for ma in ma_list:  \n",
    "    col = f\"MA_{ma}\"\n",
    "    fig.add_trace(go.Scatter(x=df_plot.time, \n",
    "        y=df_plot[col],\n",
    "        line=dict(width=2),\n",
    "        line_shape='spline',\n",
    "        name=col\n",
    "        ))\n",
    "fig.update_layout(width=1000,height=400,\n",
    "    margin=dict(l=10,r=10,b=10,t=10),\n",
    "    font=dict(size=10,color=\"#e1e1e1\"),\n",
    "    paper_bgcolor=\"#1e1e1e\",\n",
    "    plot_bgcolor=\"#1e1e1e\")\n",
    "fig.update_xaxes(\n",
    "    gridcolor=\"#1f292f\",\n",
    "    showgrid=True,fixedrange=True,rangeslider=dict(visible=False)\n",
    ")\n",
    "fig.update_yaxes(\n",
    "    gridcolor=\"#1f292f\",\n",
    "    showgrid=True\n",
    ")\n",
    "fig.show()"
   ]
  },
  {
   "cell_type": "code",
   "execution_count": null,
   "metadata": {},
   "outputs": [],
   "source": []
  }
 ],
 "metadata": {
  "kernelspec": {
   "display_name": "Python 3",
   "language": "python",
   "name": "python3"
  },
  "language_info": {
   "codemirror_mode": {
    "name": "ipython",
    "version": 3
   },
   "file_extension": ".py",
   "mimetype": "text/x-python",
   "name": "python",
   "nbconvert_exporter": "python",
   "pygments_lexer": "ipython3",
   "version": "3.11.4"
  },
  "orig_nbformat": 2
 },
 "nbformat": 4,
 "nbformat_minor": 2
}
