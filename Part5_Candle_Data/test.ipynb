{
 "cells": [
  {
   "cell_type": "code",
   "execution_count": 1,
   "metadata": {},
   "outputs": [],
   "source": [
    "import requests\n",
    "import defs"
   ]
  },
  {
   "cell_type": "code",
   "execution_count": 3,
   "metadata": {},
   "outputs": [],
   "source": [
    "session = requests.Session()"
   ]
  },
  {
   "cell_type": "code",
   "execution_count": 4,
   "metadata": {},
   "outputs": [],
   "source": [
    "instrument = \"EUR_USD\"\n",
    "count = 10\n",
    "granularity = \"H1\""
   ]
  },
  {
   "cell_type": "code",
   "execution_count": 5,
   "metadata": {},
   "outputs": [],
   "source": [
    "url = f\"{defs.OANDA_URL}/instruments/{instrument}/candles\""
   ]
  },
  {
   "cell_type": "code",
   "execution_count": 6,
   "metadata": {},
   "outputs": [
    {
     "data": {
      "text/plain": [
       "'https://api-fxpractice.oanda.com/v3/instruments/EUR_USD/candles'"
      ]
     },
     "execution_count": 6,
     "metadata": {},
     "output_type": "execute_result"
    }
   ],
   "source": [
    "url"
   ]
  },
  {
   "cell_type": "code",
   "execution_count": 7,
   "metadata": {},
   "outputs": [],
   "source": [
    "params = dict(\n",
    "    count = count,\n",
    "    granularity = granularity,\n",
    "    price = \"MBA\"\n",
    ")"
   ]
  },
  {
   "cell_type": "code",
   "execution_count": 8,
   "metadata": {},
   "outputs": [
    {
     "data": {
      "text/plain": [
       "{'count': 10, 'granularity': 'H1', 'price': 'MBA'}"
      ]
     },
     "execution_count": 8,
     "metadata": {},
     "output_type": "execute_result"
    }
   ],
   "source": [
    "params"
   ]
  },
  {
   "cell_type": "code",
   "execution_count": 9,
   "metadata": {},
   "outputs": [],
   "source": [
    "response = session.get(url, params=params, headers=defs.SECURE_HEADER)"
   ]
  },
  {
   "cell_type": "code",
   "execution_count": 10,
   "metadata": {},
   "outputs": [
    {
     "data": {
      "text/plain": [
       "200"
      ]
     },
     "execution_count": 10,
     "metadata": {},
     "output_type": "execute_result"
    }
   ],
   "source": [
    "response.status_code"
   ]
  },
  {
   "cell_type": "code",
   "execution_count": 11,
   "metadata": {},
   "outputs": [
    {
     "data": {
      "text/plain": [
       "{'instrument': 'EUR_USD',\n",
       " 'granularity': 'H1',\n",
       " 'candles': [{'complete': True,\n",
       "   'volume': 3107,\n",
       "   'time': '2023-12-08T06:00:00.000000000Z',\n",
       "   'bid': {'o': '1.07833', 'h': '1.07867', 'l': '1.07782', 'c': '1.07787'},\n",
       "   'mid': {'o': '1.07840', 'h': '1.07874', 'l': '1.07790', 'c': '1.07795'},\n",
       "   'ask': {'o': '1.07847', 'h': '1.07882', 'l': '1.07798', 'c': '1.07803'}},\n",
       "  {'complete': True,\n",
       "   'volume': 5056,\n",
       "   'time': '2023-12-08T07:00:00.000000000Z',\n",
       "   'bid': {'o': '1.07789', 'h': '1.07817', 'l': '1.07722', 'c': '1.07785'},\n",
       "   'mid': {'o': '1.07797', 'h': '1.07824', 'l': '1.07730', 'c': '1.07792'},\n",
       "   'ask': {'o': '1.07805', 'h': '1.07832', 'l': '1.07738', 'c': '1.07800'}},\n",
       "  {'complete': True,\n",
       "   'volume': 6434,\n",
       "   'time': '2023-12-08T08:00:00.000000000Z',\n",
       "   'bid': {'o': '1.07786', 'h': '1.07906', 'l': '1.07762', 'c': '1.07888'},\n",
       "   'mid': {'o': '1.07794', 'h': '1.07914', 'l': '1.07770', 'c': '1.07895'},\n",
       "   'ask': {'o': '1.07802', 'h': '1.07921', 'l': '1.07778', 'c': '1.07902'}},\n",
       "  {'complete': True,\n",
       "   'volume': 5273,\n",
       "   'time': '2023-12-08T09:00:00.000000000Z',\n",
       "   'bid': {'o': '1.07887', 'h': '1.07888', 'l': '1.07715', 'c': '1.07763'},\n",
       "   'mid': {'o': '1.07894', 'h': '1.07895', 'l': '1.07723', 'c': '1.07770'},\n",
       "   'ask': {'o': '1.07901', 'h': '1.07902', 'l': '1.07731', 'c': '1.07778'}},\n",
       "  {'complete': True,\n",
       "   'volume': 4613,\n",
       "   'time': '2023-12-08T10:00:00.000000000Z',\n",
       "   'bid': {'o': '1.07761', 'h': '1.07893', 'l': '1.07746', 'c': '1.07833'},\n",
       "   'mid': {'o': '1.07769', 'h': '1.07900', 'l': '1.07754', 'c': '1.07841'},\n",
       "   'ask': {'o': '1.07777', 'h': '1.07908', 'l': '1.07761', 'c': '1.07849'}},\n",
       "  {'complete': True,\n",
       "   'volume': 3743,\n",
       "   'time': '2023-12-08T11:00:00.000000000Z',\n",
       "   'bid': {'o': '1.07831', 'h': '1.07867', 'l': '1.07773', 'c': '1.07821'},\n",
       "   'mid': {'o': '1.07840', 'h': '1.07874', 'l': '1.07780', 'c': '1.07828'},\n",
       "   'ask': {'o': '1.07848', 'h': '1.07882', 'l': '1.07788', 'c': '1.07835'}},\n",
       "  {'complete': True,\n",
       "   'volume': 4099,\n",
       "   'time': '2023-12-08T12:00:00.000000000Z',\n",
       "   'bid': {'o': '1.07824', 'h': '1.07853', 'l': '1.07743', 'c': '1.07767'},\n",
       "   'mid': {'o': '1.07831', 'h': '1.07860', 'l': '1.07750', 'c': '1.07774'},\n",
       "   'ask': {'o': '1.07838', 'h': '1.07867', 'l': '1.07758', 'c': '1.07781'}},\n",
       "  {'complete': True,\n",
       "   'volume': 14085,\n",
       "   'time': '2023-12-08T13:00:00.000000000Z',\n",
       "   'bid': {'o': '1.07770', 'h': '1.07791', 'l': '1.07227', 'c': '1.07463'},\n",
       "   'mid': {'o': '1.07777', 'h': '1.07798', 'l': '1.07237', 'c': '1.07470'},\n",
       "   'ask': {'o': '1.07784', 'h': '1.07806', 'l': '1.07244', 'c': '1.07477'}},\n",
       "  {'complete': True,\n",
       "   'volume': 13506,\n",
       "   'time': '2023-12-08T14:00:00.000000000Z',\n",
       "   'bid': {'o': '1.07464', 'h': '1.07525', 'l': '1.07297', 'c': '1.07455'},\n",
       "   'mid': {'o': '1.07471', 'h': '1.07532', 'l': '1.07304', 'c': '1.07464'},\n",
       "   'ask': {'o': '1.07478', 'h': '1.07540', 'l': '1.07312', 'c': '1.07473'}},\n",
       "  {'complete': False,\n",
       "   'volume': 11019,\n",
       "   'time': '2023-12-08T15:00:00.000000000Z',\n",
       "   'bid': {'o': '1.07457', 'h': '1.07851', 'l': '1.07457', 'c': '1.07682'},\n",
       "   'mid': {'o': '1.07464', 'h': '1.07858', 'l': '1.07464', 'c': '1.07690'},\n",
       "   'ask': {'o': '1.07471', 'h': '1.07865', 'l': '1.07471', 'c': '1.07697'}}]}"
      ]
     },
     "execution_count": 11,
     "metadata": {},
     "output_type": "execute_result"
    }
   ],
   "source": [
    "response.json()"
   ]
  },
  {
   "cell_type": "code",
   "execution_count": null,
   "metadata": {},
   "outputs": [],
   "source": []
  },
  {
   "cell_type": "code",
   "execution_count": null,
   "metadata": {},
   "outputs": [],
   "source": []
  },
  {
   "cell_type": "code",
   "execution_count": null,
   "metadata": {},
   "outputs": [],
   "source": []
  },
  {
   "cell_type": "code",
   "execution_count": null,
   "metadata": {},
   "outputs": [],
   "source": []
  }
 ],
 "metadata": {
  "kernelspec": {
   "display_name": "Python 3",
   "language": "python",
   "name": "python3"
  },
  "language_info": {
   "codemirror_mode": {
    "name": "ipython",
    "version": 3
   },
   "file_extension": ".py",
   "mimetype": "text/x-python",
   "name": "python",
   "nbconvert_exporter": "python",
   "pygments_lexer": "ipython3",
   "version": "3.11.4"
  },
  "orig_nbformat": 2
 },
 "nbformat": 4,
 "nbformat_minor": 2
}
