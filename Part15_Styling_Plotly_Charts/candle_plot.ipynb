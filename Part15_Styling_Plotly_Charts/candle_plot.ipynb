{
 "cells": [
  {
   "cell_type": "code",
   "execution_count": 1,
   "metadata": {},
   "outputs": [],
   "source": [
    "import pandas as pd\n",
    "import utils\n",
    "import plotly.graph_objects as go"
   ]
  },
  {
   "cell_type": "code",
   "execution_count": 2,
   "metadata": {},
   "outputs": [],
   "source": [
    "pair = \"EUR_USD\"\n",
    "granularity = \"H1\""
   ]
  },
  {
   "cell_type": "code",
   "execution_count": 3,
   "metadata": {},
   "outputs": [],
   "source": [
    "df = pd.read_pickle(utils.get_his_data_filename(pair, granularity))"
   ]
  },
  {
   "cell_type": "code",
   "execution_count": 4,
   "metadata": {},
   "outputs": [],
   "source": [
    "non_cols = ['time', 'volume']"
   ]
  },
  {
   "cell_type": "code",
   "execution_count": 5,
   "metadata": {},
   "outputs": [],
   "source": [
    "mod_cols = [x for x in df.columns if x not in non_cols]"
   ]
  },
  {
   "cell_type": "code",
   "execution_count": 6,
   "metadata": {},
   "outputs": [],
   "source": [
    "df[mod_cols] = df[mod_cols].apply(pd.to_numeric)"
   ]
  },
  {
   "cell_type": "code",
   "execution_count": 7,
   "metadata": {},
   "outputs": [],
   "source": [
    "df_plot = df.iloc[-100:].copy()"
   ]
  },
  {
   "cell_type": "code",
   "execution_count": 8,
   "metadata": {},
   "outputs": [
    {
     "data": {
      "text/plain": [
       "(100, 14)"
      ]
     },
     "execution_count": 8,
     "metadata": {},
     "output_type": "execute_result"
    }
   ],
   "source": [
    "df_plot.shape"
   ]
  },
  {
   "cell_type": "code",
   "execution_count": 9,
   "metadata": {},
   "outputs": [
    {
     "data": {
      "application/vnd.plotly.v1+json": {
       "config": {
        "plotlyServerURL": "https://plot.ly"
       },
       "data": [
        {
         "close": [
          1.07865,
          1.07857,
          1.07858,
          1.07979,
          1.07987,
          1.07958,
          1.07948,
          1.07919,
          1.07904,
          1.07916,
          1.07916,
          1.08033,
          1.07755,
          1.07692,
          1.07768,
          1.07695,
          1.07698,
          1.0764,
          1.07722,
          1.07676,
          1.07733,
          1.07824,
          1.07812,
          1.07694,
          1.07743,
          1.07716,
          1.07728,
          1.0772,
          1.0773,
          1.0767,
          1.07643,
          1.07618,
          1.07638,
          1.0767,
          1.07704,
          1.07712,
          1.07678,
          1.07667,
          1.07722,
          1.0778,
          1.07857,
          1.07086,
          1.0718,
          1.07169,
          1.07193,
          1.07155,
          1.07084,
          1.07014,
          1.07073,
          1.07094,
          1.07114,
          1.07085,
          1.07078,
          1.07118,
          1.07098,
          1.07126,
          1.07144,
          1.07141,
          1.07165,
          1.07077,
          1.07024,
          1.07,
          1.07037,
          1.0708,
          1.07058,
          1.07089,
          1.07162,
          1.07213,
          1.07338,
          1.07306,
          1.0727,
          1.07282,
          1.07278,
          1.07276,
          1.07273,
          1.07322,
          1.07342,
          1.07284,
          1.07294,
          1.07258,
          1.07262,
          1.07292,
          1.07311,
          1.0733,
          1.07308,
          1.07332,
          1.07347,
          1.07356,
          1.0745,
          1.07664,
          1.07762,
          1.07613,
          1.07598,
          1.07626,
          1.07671,
          1.07689,
          1.07716,
          1.07726,
          1.07732,
          1.07727
         ],
         "decreasing": {
          "fillcolor": "#CC2E3C",
          "line": {
           "color": "#FF3A4C"
          }
         },
         "high": [
          1.07882,
          1.07885,
          1.07878,
          1.07983,
          1.08,
          1.07989,
          1.0798,
          1.07972,
          1.0794,
          1.07946,
          1.07932,
          1.08058,
          1.08034,
          1.07782,
          1.0779,
          1.07778,
          1.07738,
          1.07738,
          1.07743,
          1.07726,
          1.07774,
          1.07826,
          1.07862,
          1.0783,
          1.0775,
          1.0775,
          1.0776,
          1.0773,
          1.07733,
          1.07746,
          1.0767,
          1.07648,
          1.07644,
          1.0768,
          1.07726,
          1.07778,
          1.07747,
          1.07695,
          1.07763,
          1.07819,
          1.07866,
          1.07966,
          1.0724,
          1.0727,
          1.07222,
          1.07204,
          1.07204,
          1.07082,
          1.07102,
          1.07104,
          1.07132,
          1.07115,
          1.07146,
          1.07124,
          1.0714,
          1.0714,
          1.07147,
          1.07152,
          1.07188,
          1.07176,
          1.07082,
          1.0706,
          1.07046,
          1.07104,
          1.07106,
          1.07169,
          1.07231,
          1.07253,
          1.07346,
          1.0734,
          1.07339,
          1.07297,
          1.0729,
          1.07285,
          1.07298,
          1.07325,
          1.07356,
          1.07353,
          1.07319,
          1.07307,
          1.0727,
          1.07324,
          1.0734,
          1.07415,
          1.07377,
          1.0737,
          1.0737,
          1.07401,
          1.07488,
          1.0773,
          1.07828,
          1.0785,
          1.07633,
          1.07631,
          1.07677,
          1.07726,
          1.07719,
          1.07743,
          1.07734,
          1.0777
         ],
         "increasing": {
          "fillcolor": "#24A06B",
          "line": {
           "color": "#2EC886"
          }
         },
         "line": {
          "width": 1
         },
         "low": [
          1.07798,
          1.0784,
          1.07823,
          1.07846,
          1.07967,
          1.07938,
          1.07931,
          1.07911,
          1.07894,
          1.07902,
          1.07902,
          1.07894,
          1.07745,
          1.07668,
          1.07672,
          1.07632,
          1.07652,
          1.07611,
          1.07632,
          1.0756,
          1.07654,
          1.0773,
          1.07805,
          1.07681,
          1.07695,
          1.07704,
          1.07706,
          1.07708,
          1.0767,
          1.07656,
          1.07622,
          1.07606,
          1.07613,
          1.07634,
          1.07663,
          1.07658,
          1.07624,
          1.0757,
          1.07665,
          1.07722,
          1.07762,
          1.0703,
          1.07006,
          1.0706,
          1.07128,
          1.07122,
          1.07076,
          1.07006,
          1.07006,
          1.07071,
          1.07095,
          1.0708,
          1.07062,
          1.07034,
          1.07088,
          1.07082,
          1.07093,
          1.07116,
          1.0714,
          1.07052,
          1.0695,
          1.06963,
          1.06965,
          1.06972,
          1.07011,
          1.0706,
          1.07065,
          1.07132,
          1.07193,
          1.07278,
          1.0726,
          1.07255,
          1.07261,
          1.07258,
          1.07269,
          1.07275,
          1.07294,
          1.07264,
          1.07258,
          1.07252,
          1.07247,
          1.07261,
          1.07272,
          1.07278,
          1.07298,
          1.07281,
          1.07308,
          1.07338,
          1.07354,
          1.07428,
          1.07592,
          1.07586,
          1.07551,
          1.07566,
          1.07607,
          1.07666,
          1.0768,
          1.07703,
          1.07699,
          1.07722
         ],
         "opacity": 1,
         "open": [
          1.07824,
          1.07864,
          1.07842,
          1.07856,
          1.0798,
          1.07989,
          1.07956,
          1.0795,
          1.07918,
          1.07904,
          1.07916,
          1.07914,
          1.08032,
          1.07754,
          1.07693,
          1.07768,
          1.07697,
          1.07701,
          1.07638,
          1.07721,
          1.0768,
          1.07732,
          1.07826,
          1.07811,
          1.07695,
          1.07744,
          1.07738,
          1.0773,
          1.07718,
          1.07731,
          1.07668,
          1.07642,
          1.07619,
          1.07634,
          1.07669,
          1.07707,
          1.07715,
          1.07679,
          1.0767,
          1.07724,
          1.07777,
          1.07854,
          1.07085,
          1.07182,
          1.0717,
          1.07192,
          1.07153,
          1.07082,
          1.07013,
          1.07072,
          1.071,
          1.07104,
          1.07086,
          1.0708,
          1.07116,
          1.07098,
          1.07126,
          1.07144,
          1.0714,
          1.0716,
          1.07076,
          1.07023,
          1.07003,
          1.07038,
          1.07078,
          1.0706,
          1.07087,
          1.07162,
          1.07214,
          1.0734,
          1.07308,
          1.0727,
          1.07282,
          1.07276,
          1.07272,
          1.07275,
          1.07325,
          1.07343,
          1.07286,
          1.07295,
          1.07258,
          1.07262,
          1.0729,
          1.0731,
          1.07332,
          1.07308,
          1.0733,
          1.07348,
          1.07354,
          1.07448,
          1.07665,
          1.07762,
          1.07612,
          1.07599,
          1.07624,
          1.0767,
          1.07688,
          1.07716,
          1.07706,
          1.07724
         ],
         "type": "candlestick",
         "x": [
          "2024-02-09T20:00:00.000000000Z",
          "2024-02-09T21:00:00.000000000Z",
          "2024-02-11T22:00:00.000000000Z",
          "2024-02-11T23:00:00.000000000Z",
          "2024-02-12T00:00:00.000000000Z",
          "2024-02-12T01:00:00.000000000Z",
          "2024-02-12T02:00:00.000000000Z",
          "2024-02-12T03:00:00.000000000Z",
          "2024-02-12T04:00:00.000000000Z",
          "2024-02-12T05:00:00.000000000Z",
          "2024-02-12T06:00:00.000000000Z",
          "2024-02-12T07:00:00.000000000Z",
          "2024-02-12T08:00:00.000000000Z",
          "2024-02-12T09:00:00.000000000Z",
          "2024-02-12T10:00:00.000000000Z",
          "2024-02-12T11:00:00.000000000Z",
          "2024-02-12T12:00:00.000000000Z",
          "2024-02-12T13:00:00.000000000Z",
          "2024-02-12T14:00:00.000000000Z",
          "2024-02-12T15:00:00.000000000Z",
          "2024-02-12T16:00:00.000000000Z",
          "2024-02-12T17:00:00.000000000Z",
          "2024-02-12T18:00:00.000000000Z",
          "2024-02-12T19:00:00.000000000Z",
          "2024-02-12T20:00:00.000000000Z",
          "2024-02-12T21:00:00.000000000Z",
          "2024-02-12T22:00:00.000000000Z",
          "2024-02-12T23:00:00.000000000Z",
          "2024-02-13T00:00:00.000000000Z",
          "2024-02-13T01:00:00.000000000Z",
          "2024-02-13T02:00:00.000000000Z",
          "2024-02-13T03:00:00.000000000Z",
          "2024-02-13T04:00:00.000000000Z",
          "2024-02-13T05:00:00.000000000Z",
          "2024-02-13T06:00:00.000000000Z",
          "2024-02-13T07:00:00.000000000Z",
          "2024-02-13T08:00:00.000000000Z",
          "2024-02-13T09:00:00.000000000Z",
          "2024-02-13T10:00:00.000000000Z",
          "2024-02-13T11:00:00.000000000Z",
          "2024-02-13T12:00:00.000000000Z",
          "2024-02-13T13:00:00.000000000Z",
          "2024-02-13T14:00:00.000000000Z",
          "2024-02-13T15:00:00.000000000Z",
          "2024-02-13T16:00:00.000000000Z",
          "2024-02-13T17:00:00.000000000Z",
          "2024-02-13T18:00:00.000000000Z",
          "2024-02-13T19:00:00.000000000Z",
          "2024-02-13T20:00:00.000000000Z",
          "2024-02-13T21:00:00.000000000Z",
          "2024-02-13T22:00:00.000000000Z",
          "2024-02-13T23:00:00.000000000Z",
          "2024-02-14T00:00:00.000000000Z",
          "2024-02-14T01:00:00.000000000Z",
          "2024-02-14T02:00:00.000000000Z",
          "2024-02-14T03:00:00.000000000Z",
          "2024-02-14T04:00:00.000000000Z",
          "2024-02-14T05:00:00.000000000Z",
          "2024-02-14T06:00:00.000000000Z",
          "2024-02-14T07:00:00.000000000Z",
          "2024-02-14T08:00:00.000000000Z",
          "2024-02-14T09:00:00.000000000Z",
          "2024-02-14T10:00:00.000000000Z",
          "2024-02-14T11:00:00.000000000Z",
          "2024-02-14T12:00:00.000000000Z",
          "2024-02-14T13:00:00.000000000Z",
          "2024-02-14T14:00:00.000000000Z",
          "2024-02-14T15:00:00.000000000Z",
          "2024-02-14T16:00:00.000000000Z",
          "2024-02-14T17:00:00.000000000Z",
          "2024-02-14T18:00:00.000000000Z",
          "2024-02-14T19:00:00.000000000Z",
          "2024-02-14T20:00:00.000000000Z",
          "2024-02-14T21:00:00.000000000Z",
          "2024-02-14T22:00:00.000000000Z",
          "2024-02-14T23:00:00.000000000Z",
          "2024-02-15T00:00:00.000000000Z",
          "2024-02-15T01:00:00.000000000Z",
          "2024-02-15T02:00:00.000000000Z",
          "2024-02-15T03:00:00.000000000Z",
          "2024-02-15T04:00:00.000000000Z",
          "2024-02-15T05:00:00.000000000Z",
          "2024-02-15T06:00:00.000000000Z",
          "2024-02-15T07:00:00.000000000Z",
          "2024-02-15T08:00:00.000000000Z",
          "2024-02-15T09:00:00.000000000Z",
          "2024-02-15T10:00:00.000000000Z",
          "2024-02-15T11:00:00.000000000Z",
          "2024-02-15T12:00:00.000000000Z",
          "2024-02-15T13:00:00.000000000Z",
          "2024-02-15T14:00:00.000000000Z",
          "2024-02-15T15:00:00.000000000Z",
          "2024-02-15T16:00:00.000000000Z",
          "2024-02-15T17:00:00.000000000Z",
          "2024-02-15T18:00:00.000000000Z",
          "2024-02-15T19:00:00.000000000Z",
          "2024-02-15T20:00:00.000000000Z",
          "2024-02-15T21:00:00.000000000Z",
          "2024-02-15T22:00:00.000000000Z",
          "2024-02-15T23:00:00.000000000Z"
         ]
        }
       ],
       "layout": {
        "font": {
         "color": "#e1e1e1",
         "size": 10
        },
        "height": 600,
        "margin": {
         "b": 10,
         "l": 10,
         "r": 10,
         "t": 10
        },
        "paper_bgcolor": "#1e1e1e",
        "plot_bgcolor": "#1e1e1e",
        "template": {
         "data": {
          "bar": [
           {
            "error_x": {
             "color": "#2a3f5f"
            },
            "error_y": {
             "color": "#2a3f5f"
            },
            "marker": {
             "line": {
              "color": "#E5ECF6",
              "width": 0.5
             },
             "pattern": {
              "fillmode": "overlay",
              "size": 10,
              "solidity": 0.2
             }
            },
            "type": "bar"
           }
          ],
          "barpolar": [
           {
            "marker": {
             "line": {
              "color": "#E5ECF6",
              "width": 0.5
             },
             "pattern": {
              "fillmode": "overlay",
              "size": 10,
              "solidity": 0.2
             }
            },
            "type": "barpolar"
           }
          ],
          "carpet": [
           {
            "aaxis": {
             "endlinecolor": "#2a3f5f",
             "gridcolor": "white",
             "linecolor": "white",
             "minorgridcolor": "white",
             "startlinecolor": "#2a3f5f"
            },
            "baxis": {
             "endlinecolor": "#2a3f5f",
             "gridcolor": "white",
             "linecolor": "white",
             "minorgridcolor": "white",
             "startlinecolor": "#2a3f5f"
            },
            "type": "carpet"
           }
          ],
          "choropleth": [
           {
            "colorbar": {
             "outlinewidth": 0,
             "ticks": ""
            },
            "type": "choropleth"
           }
          ],
          "contour": [
           {
            "colorbar": {
             "outlinewidth": 0,
             "ticks": ""
            },
            "colorscale": [
             [
              0,
              "#0d0887"
             ],
             [
              0.1111111111111111,
              "#46039f"
             ],
             [
              0.2222222222222222,
              "#7201a8"
             ],
             [
              0.3333333333333333,
              "#9c179e"
             ],
             [
              0.4444444444444444,
              "#bd3786"
             ],
             [
              0.5555555555555556,
              "#d8576b"
             ],
             [
              0.6666666666666666,
              "#ed7953"
             ],
             [
              0.7777777777777778,
              "#fb9f3a"
             ],
             [
              0.8888888888888888,
              "#fdca26"
             ],
             [
              1,
              "#f0f921"
             ]
            ],
            "type": "contour"
           }
          ],
          "contourcarpet": [
           {
            "colorbar": {
             "outlinewidth": 0,
             "ticks": ""
            },
            "type": "contourcarpet"
           }
          ],
          "heatmap": [
           {
            "colorbar": {
             "outlinewidth": 0,
             "ticks": ""
            },
            "colorscale": [
             [
              0,
              "#0d0887"
             ],
             [
              0.1111111111111111,
              "#46039f"
             ],
             [
              0.2222222222222222,
              "#7201a8"
             ],
             [
              0.3333333333333333,
              "#9c179e"
             ],
             [
              0.4444444444444444,
              "#bd3786"
             ],
             [
              0.5555555555555556,
              "#d8576b"
             ],
             [
              0.6666666666666666,
              "#ed7953"
             ],
             [
              0.7777777777777778,
              "#fb9f3a"
             ],
             [
              0.8888888888888888,
              "#fdca26"
             ],
             [
              1,
              "#f0f921"
             ]
            ],
            "type": "heatmap"
           }
          ],
          "heatmapgl": [
           {
            "colorbar": {
             "outlinewidth": 0,
             "ticks": ""
            },
            "colorscale": [
             [
              0,
              "#0d0887"
             ],
             [
              0.1111111111111111,
              "#46039f"
             ],
             [
              0.2222222222222222,
              "#7201a8"
             ],
             [
              0.3333333333333333,
              "#9c179e"
             ],
             [
              0.4444444444444444,
              "#bd3786"
             ],
             [
              0.5555555555555556,
              "#d8576b"
             ],
             [
              0.6666666666666666,
              "#ed7953"
             ],
             [
              0.7777777777777778,
              "#fb9f3a"
             ],
             [
              0.8888888888888888,
              "#fdca26"
             ],
             [
              1,
              "#f0f921"
             ]
            ],
            "type": "heatmapgl"
           }
          ],
          "histogram": [
           {
            "marker": {
             "pattern": {
              "fillmode": "overlay",
              "size": 10,
              "solidity": 0.2
             }
            },
            "type": "histogram"
           }
          ],
          "histogram2d": [
           {
            "colorbar": {
             "outlinewidth": 0,
             "ticks": ""
            },
            "colorscale": [
             [
              0,
              "#0d0887"
             ],
             [
              0.1111111111111111,
              "#46039f"
             ],
             [
              0.2222222222222222,
              "#7201a8"
             ],
             [
              0.3333333333333333,
              "#9c179e"
             ],
             [
              0.4444444444444444,
              "#bd3786"
             ],
             [
              0.5555555555555556,
              "#d8576b"
             ],
             [
              0.6666666666666666,
              "#ed7953"
             ],
             [
              0.7777777777777778,
              "#fb9f3a"
             ],
             [
              0.8888888888888888,
              "#fdca26"
             ],
             [
              1,
              "#f0f921"
             ]
            ],
            "type": "histogram2d"
           }
          ],
          "histogram2dcontour": [
           {
            "colorbar": {
             "outlinewidth": 0,
             "ticks": ""
            },
            "colorscale": [
             [
              0,
              "#0d0887"
             ],
             [
              0.1111111111111111,
              "#46039f"
             ],
             [
              0.2222222222222222,
              "#7201a8"
             ],
             [
              0.3333333333333333,
              "#9c179e"
             ],
             [
              0.4444444444444444,
              "#bd3786"
             ],
             [
              0.5555555555555556,
              "#d8576b"
             ],
             [
              0.6666666666666666,
              "#ed7953"
             ],
             [
              0.7777777777777778,
              "#fb9f3a"
             ],
             [
              0.8888888888888888,
              "#fdca26"
             ],
             [
              1,
              "#f0f921"
             ]
            ],
            "type": "histogram2dcontour"
           }
          ],
          "mesh3d": [
           {
            "colorbar": {
             "outlinewidth": 0,
             "ticks": ""
            },
            "type": "mesh3d"
           }
          ],
          "parcoords": [
           {
            "line": {
             "colorbar": {
              "outlinewidth": 0,
              "ticks": ""
             }
            },
            "type": "parcoords"
           }
          ],
          "pie": [
           {
            "automargin": true,
            "type": "pie"
           }
          ],
          "scatter": [
           {
            "fillpattern": {
             "fillmode": "overlay",
             "size": 10,
             "solidity": 0.2
            },
            "type": "scatter"
           }
          ],
          "scatter3d": [
           {
            "line": {
             "colorbar": {
              "outlinewidth": 0,
              "ticks": ""
             }
            },
            "marker": {
             "colorbar": {
              "outlinewidth": 0,
              "ticks": ""
             }
            },
            "type": "scatter3d"
           }
          ],
          "scattercarpet": [
           {
            "marker": {
             "colorbar": {
              "outlinewidth": 0,
              "ticks": ""
             }
            },
            "type": "scattercarpet"
           }
          ],
          "scattergeo": [
           {
            "marker": {
             "colorbar": {
              "outlinewidth": 0,
              "ticks": ""
             }
            },
            "type": "scattergeo"
           }
          ],
          "scattergl": [
           {
            "marker": {
             "colorbar": {
              "outlinewidth": 0,
              "ticks": ""
             }
            },
            "type": "scattergl"
           }
          ],
          "scattermapbox": [
           {
            "marker": {
             "colorbar": {
              "outlinewidth": 0,
              "ticks": ""
             }
            },
            "type": "scattermapbox"
           }
          ],
          "scatterpolar": [
           {
            "marker": {
             "colorbar": {
              "outlinewidth": 0,
              "ticks": ""
             }
            },
            "type": "scatterpolar"
           }
          ],
          "scatterpolargl": [
           {
            "marker": {
             "colorbar": {
              "outlinewidth": 0,
              "ticks": ""
             }
            },
            "type": "scatterpolargl"
           }
          ],
          "scatterternary": [
           {
            "marker": {
             "colorbar": {
              "outlinewidth": 0,
              "ticks": ""
             }
            },
            "type": "scatterternary"
           }
          ],
          "surface": [
           {
            "colorbar": {
             "outlinewidth": 0,
             "ticks": ""
            },
            "colorscale": [
             [
              0,
              "#0d0887"
             ],
             [
              0.1111111111111111,
              "#46039f"
             ],
             [
              0.2222222222222222,
              "#7201a8"
             ],
             [
              0.3333333333333333,
              "#9c179e"
             ],
             [
              0.4444444444444444,
              "#bd3786"
             ],
             [
              0.5555555555555556,
              "#d8576b"
             ],
             [
              0.6666666666666666,
              "#ed7953"
             ],
             [
              0.7777777777777778,
              "#fb9f3a"
             ],
             [
              0.8888888888888888,
              "#fdca26"
             ],
             [
              1,
              "#f0f921"
             ]
            ],
            "type": "surface"
           }
          ],
          "table": [
           {
            "cells": {
             "fill": {
              "color": "#EBF0F8"
             },
             "line": {
              "color": "white"
             }
            },
            "header": {
             "fill": {
              "color": "#C8D4E3"
             },
             "line": {
              "color": "white"
             }
            },
            "type": "table"
           }
          ]
         },
         "layout": {
          "annotationdefaults": {
           "arrowcolor": "#2a3f5f",
           "arrowhead": 0,
           "arrowwidth": 1
          },
          "autotypenumbers": "strict",
          "coloraxis": {
           "colorbar": {
            "outlinewidth": 0,
            "ticks": ""
           }
          },
          "colorscale": {
           "diverging": [
            [
             0,
             "#8e0152"
            ],
            [
             0.1,
             "#c51b7d"
            ],
            [
             0.2,
             "#de77ae"
            ],
            [
             0.3,
             "#f1b6da"
            ],
            [
             0.4,
             "#fde0ef"
            ],
            [
             0.5,
             "#f7f7f7"
            ],
            [
             0.6,
             "#e6f5d0"
            ],
            [
             0.7,
             "#b8e186"
            ],
            [
             0.8,
             "#7fbc41"
            ],
            [
             0.9,
             "#4d9221"
            ],
            [
             1,
             "#276419"
            ]
           ],
           "sequential": [
            [
             0,
             "#0d0887"
            ],
            [
             0.1111111111111111,
             "#46039f"
            ],
            [
             0.2222222222222222,
             "#7201a8"
            ],
            [
             0.3333333333333333,
             "#9c179e"
            ],
            [
             0.4444444444444444,
             "#bd3786"
            ],
            [
             0.5555555555555556,
             "#d8576b"
            ],
            [
             0.6666666666666666,
             "#ed7953"
            ],
            [
             0.7777777777777778,
             "#fb9f3a"
            ],
            [
             0.8888888888888888,
             "#fdca26"
            ],
            [
             1,
             "#f0f921"
            ]
           ],
           "sequentialminus": [
            [
             0,
             "#0d0887"
            ],
            [
             0.1111111111111111,
             "#46039f"
            ],
            [
             0.2222222222222222,
             "#7201a8"
            ],
            [
             0.3333333333333333,
             "#9c179e"
            ],
            [
             0.4444444444444444,
             "#bd3786"
            ],
            [
             0.5555555555555556,
             "#d8576b"
            ],
            [
             0.6666666666666666,
             "#ed7953"
            ],
            [
             0.7777777777777778,
             "#fb9f3a"
            ],
            [
             0.8888888888888888,
             "#fdca26"
            ],
            [
             1,
             "#f0f921"
            ]
           ]
          },
          "colorway": [
           "#636efa",
           "#EF553B",
           "#00cc96",
           "#ab63fa",
           "#FFA15A",
           "#19d3f3",
           "#FF6692",
           "#B6E880",
           "#FF97FF",
           "#FECB52"
          ],
          "font": {
           "color": "#2a3f5f"
          },
          "geo": {
           "bgcolor": "white",
           "lakecolor": "white",
           "landcolor": "#E5ECF6",
           "showlakes": true,
           "showland": true,
           "subunitcolor": "white"
          },
          "hoverlabel": {
           "align": "left"
          },
          "hovermode": "closest",
          "mapbox": {
           "style": "light"
          },
          "paper_bgcolor": "white",
          "plot_bgcolor": "#E5ECF6",
          "polar": {
           "angularaxis": {
            "gridcolor": "white",
            "linecolor": "white",
            "ticks": ""
           },
           "bgcolor": "#E5ECF6",
           "radialaxis": {
            "gridcolor": "white",
            "linecolor": "white",
            "ticks": ""
           }
          },
          "scene": {
           "xaxis": {
            "backgroundcolor": "#E5ECF6",
            "gridcolor": "white",
            "gridwidth": 2,
            "linecolor": "white",
            "showbackground": true,
            "ticks": "",
            "zerolinecolor": "white"
           },
           "yaxis": {
            "backgroundcolor": "#E5ECF6",
            "gridcolor": "white",
            "gridwidth": 2,
            "linecolor": "white",
            "showbackground": true,
            "ticks": "",
            "zerolinecolor": "white"
           },
           "zaxis": {
            "backgroundcolor": "#E5ECF6",
            "gridcolor": "white",
            "gridwidth": 2,
            "linecolor": "white",
            "showbackground": true,
            "ticks": "",
            "zerolinecolor": "white"
           }
          },
          "shapedefaults": {
           "line": {
            "color": "#2a3f5f"
           }
          },
          "ternary": {
           "aaxis": {
            "gridcolor": "white",
            "linecolor": "white",
            "ticks": ""
           },
           "baxis": {
            "gridcolor": "white",
            "linecolor": "white",
            "ticks": ""
           },
           "bgcolor": "#E5ECF6",
           "caxis": {
            "gridcolor": "white",
            "linecolor": "white",
            "ticks": ""
           }
          },
          "title": {
           "x": 0.05
          },
          "xaxis": {
           "automargin": true,
           "gridcolor": "white",
           "linecolor": "white",
           "ticks": "",
           "title": {
            "standoff": 15
           },
           "zerolinecolor": "white",
           "zerolinewidth": 2
          },
          "yaxis": {
           "automargin": true,
           "gridcolor": "white",
           "linecolor": "white",
           "ticks": "",
           "title": {
            "standoff": 15
           },
           "zerolinecolor": "white",
           "zerolinewidth": 2
          }
         }
        },
        "width": 1000,
        "xaxis": {
         "fixedrange": true,
         "gridcolor": "#1f292f",
         "rangeslider": {
          "visible": false
         },
         "showgrid": true
        },
        "yaxis": {
         "gridcolor": "#1f292f",
         "showgrid": true
        }
       }
      }
     },
     "metadata": {},
     "output_type": "display_data"
    }
   ],
   "source": [
    "fig = go.Figure()\n",
    "fig.add_trace(go.Candlestick(\n",
    "    x=df_plot.time, open=df_plot.mid_o, high=df_plot.mid_h, low=df_plot.mid_l, close=df_plot.mid_c,\n",
    "    line=dict(width=1), opacity=1,\n",
    "    increasing_fillcolor='#24A06B',\n",
    "    decreasing_fillcolor=\"#CC2E3C\",\n",
    "    increasing_line_color='#2EC886',  \n",
    "    decreasing_line_color='#FF3A4C'\n",
    "))\n",
    "fig.update_layout(width=1000,height=600,\n",
    "    margin=dict(l=10,r=10,b=10,t=10),\n",
    "    font=dict(size=10,color=\"#e1e1e1\"),\n",
    "    paper_bgcolor=\"#1e1e1e\",\n",
    "    plot_bgcolor=\"#1e1e1e\")\n",
    "fig.update_xaxes(\n",
    "    gridcolor=\"#1f292f\",\n",
    "    showgrid=True,fixedrange=True,rangeslider=dict(visible=False)\n",
    ")\n",
    "fig.update_yaxes(\n",
    "    gridcolor=\"#1f292f\",\n",
    "    showgrid=True\n",
    ")\n",
    "fig.show()\n",
    "#fig.write_image(\"chart.png\")"
   ]
  },
  {
   "cell_type": "code",
   "execution_count": null,
   "metadata": {},
   "outputs": [],
   "source": []
  }
 ],
 "metadata": {
  "kernelspec": {
   "display_name": "Python 3",
   "language": "python",
   "name": "python3"
  },
  "language_info": {
   "codemirror_mode": {
    "name": "ipython",
    "version": 3
   },
   "file_extension": ".py",
   "mimetype": "text/x-python",
   "name": "python",
   "nbconvert_exporter": "python",
   "pygments_lexer": "ipython3",
   "version": "3.11.4"
  },
  "orig_nbformat": 2
 },
 "nbformat": 4,
 "nbformat_minor": 2
}
